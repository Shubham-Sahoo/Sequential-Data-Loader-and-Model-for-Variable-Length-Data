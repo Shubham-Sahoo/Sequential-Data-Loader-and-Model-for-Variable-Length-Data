{
 "cells": [
  {
   "cell_type": "code",
   "execution_count": 1,
   "metadata": {},
   "outputs": [],
   "source": [
    "from data_loader import dataloader\n",
    "import json "
   ]
  },
  {
   "cell_type": "code",
   "execution_count": 2,
   "metadata": {},
   "outputs": [],
   "source": [
    "train_path = \"./aclImdb/train\"\n",
    "test_path = \"./aclImdb/test\"\n",
    "\n",
    "with open('./word2id.json', 'r') as f:\n",
    "    word2id = json.load(f)\n",
    "\n",
    "train_data, test_data = dataloader(word2id, train_path, test_path)\n",
    "data_iter = iter(train_data)\n",
    "\n",
    "seq, length, label = next(data_iter)"
   ]
  },
  {
   "cell_type": "code",
   "execution_count": 3,
   "metadata": {},
   "outputs": [
    {
     "name": "stdout",
     "output_type": "stream",
     "text": [
      "torch.Size([100, 882])\n",
      "tensor([[ 3335,  3335,   567,  ...,     7,    59,   212],\n",
      "        [17728,    78,  8828,  ...,     0,     0,     0],\n",
      "        [   22,   107,    92,  ...,     0,     0,     0],\n",
      "        ...,\n",
      "        [    8,    31,    83,  ...,     0,     0,     0],\n",
      "        [ 1228,     8,   193,  ...,     0,     0,     0],\n",
      "        [   37,  7988, 13193,  ...,     0,     0,     0]])\n"
     ]
    }
   ],
   "source": [
    "#seq is padded tensor of shape (batch_size, padded length)\n",
    "print(seq.shape)\n",
    "print(seq)"
   ]
  },
  {
   "cell_type": "code",
   "execution_count": 4,
   "metadata": {},
   "outputs": [
    {
     "name": "stdout",
     "output_type": "stream",
     "text": [
      "tensor([882, 871, 764, 661, 562, 545, 505, 477, 460, 449, 444, 439, 398, 349,\n",
      "        335, 332, 328, 325, 325, 315, 315, 313, 303, 301, 297, 271, 270, 251,\n",
      "        247, 241, 235, 232, 229, 224, 218, 218, 211, 208, 207, 203, 202, 196,\n",
      "        196, 190, 181, 181, 181, 167, 165, 163, 160, 159, 158, 157, 156, 151,\n",
      "        149, 145, 144, 142, 142, 142, 141, 140, 139, 139, 135, 135, 131, 131,\n",
      "        130, 126, 126, 121, 120, 119, 115, 115, 115, 103, 102,  99,  96,  96,\n",
      "         95,  94,  91,  91,  87,  87,  79,  78,  73,  68,  60,  52,  48,  44,\n",
      "         39,  33])\n"
     ]
    }
   ],
   "source": [
    "#length will tell us length of each sequence without padding, in decreasing order\n",
    "print(length)"
   ]
  },
  {
   "cell_type": "code",
   "execution_count": 5,
   "metadata": {},
   "outputs": [
    {
     "name": "stdout",
     "output_type": "stream",
     "text": [
      "torch.Size([100])\n"
     ]
    }
   ],
   "source": [
    "print(label.shape)"
   ]
  }
 ],
 "metadata": {
  "kernelspec": {
   "display_name": "Python 3",
   "language": "python",
   "name": "python3"
  },
  "language_info": {
   "codemirror_mode": {
    "name": "ipython",
    "version": 3
   },
   "file_extension": ".py",
   "mimetype": "text/x-python",
   "name": "python",
   "nbconvert_exporter": "python",
   "pygments_lexer": "ipython3",
   "version": "3.6.9"
  }
 },
 "nbformat": 4,
 "nbformat_minor": 4
}
